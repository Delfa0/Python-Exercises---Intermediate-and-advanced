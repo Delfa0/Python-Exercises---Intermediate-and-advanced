{
 "cells": [
  {
   "cell_type": "code",
   "execution_count": 3,
   "id": "c6b0e3fc-789a-47ab-8658-6223c718c32c",
   "metadata": {},
   "outputs": [
    {
     "name": "stdout",
     "output_type": "stream",
     "text": [
      "{'int': 3, 'float': 1, 'str': 2, 'bool': 1}\n"
     ]
    }
   ],
   "source": [
    "def count_types(items):\n",
    "    type_count = {}\n",
    "    for item in items:\n",
    "        type_name = type(item).__name__\n",
    "        type_count[type_name] = type_count.get(type_name, 0) + 1\n",
    "    return type_count\n",
    "\n",
    "print(count_types([1, 2.5, \"hello\", True, 3, \"world\", 7]))\n"
   ]
  },
  {
   "cell_type": "code",
   "execution_count": 4,
   "id": "efff36d2-8387-4069-8308-3d12b7ee052b",
   "metadata": {},
   "outputs": [
    {
     "name": "stdout",
     "output_type": "stream",
     "text": [
      "123\n",
      "Error: Cannot convert 'abc' to float\n"
     ]
    }
   ],
   "source": [
    "def convert_value(value, target_type):\n",
    "    try:\n",
    "        return target_type(value)\n",
    "    except (ValueError, TypeError):\n",
    "        return f\"Error: Cannot convert {value!r} to {target_type.__name__}\"\n",
    "\n",
    "print(convert_value(\"123\", int))\n",
    "print(convert_value(\"abc\", float))"
   ]
  },
  {
   "cell_type": "code",
   "execution_count": 5,
   "id": "cb9981ee-960b-49cd-90b3-fe315354308a",
   "metadata": {},
   "outputs": [
    {
     "name": "stdout",
     "output_type": "stream",
     "text": [
      "True\n",
      "False\n"
     ]
    }
   ],
   "source": [
    "def validate_user(username, age, email):\n",
    "    if not isinstance(username, str):\n",
    "        return False\n",
    "    try:\n",
    "        age = int(age)\n",
    "    except ValueError:\n",
    "        return False\n",
    "    if \"@\" not in email:\n",
    "        return False\n",
    "    return True\n",
    "\n",
    "print(validate_user(\"Fadel\", \"25\", \"fadel@example.com\"))\n",
    "print(validate_user(123, \"25\", \"no_at_symbol.com\"))\n"
   ]
  },
  {
   "cell_type": "code",
   "execution_count": 7,
   "id": "9b6026a4-d9d8-494b-8ce7-c0f05dba4423",
   "metadata": {},
   "outputs": [
    {
     "name": "stdout",
     "output_type": "stream",
     "text": [
      "(3+4j)\n",
      "Error: '{num_str}' is not a valid complex number\n"
     ]
    }
   ],
   "source": [
    "def to_complex(num_str):\n",
    "    try:\n",
    "        return complex(num_str)\n",
    "    except ValueError:\n",
    "        return \"Error: '{num_str}' is not a valid complex number\"\n",
    "\n",
    "print(to_complex(\"3+4j\"))\n",
    "print(to_complex(\"abc\"))"
   ]
  },
  {
   "cell_type": "code",
   "execution_count": 8,
   "id": "d94e9e61-962b-4e22-98eb-f69701ec461c",
   "metadata": {},
   "outputs": [
    {
     "name": "stdout",
     "output_type": "stream",
     "text": [
      "(b'\\x00\\x0009', 12345)\n"
     ]
    }
   ],
   "source": [
    "import struct\n",
    "\n",
    "def int_to_bytes_and_back(value, endian='little'):\n",
    "    fmt = '<i' if endian == 'little' else '>i'\n",
    "    packed = struct.pack(fmt, value)\n",
    "    unpacked = struct.unpack(fmt, packed)[0]\n",
    "    return packed, unpacked\n",
    "\n",
    "print(int_to_bytes_and_back(12345, 'big'))"
   ]
  },
  {
   "cell_type": "code",
   "execution_count": 9,
   "id": "3b16f291-13d1-439f-81d1-f8a4efb87604",
   "metadata": {},
   "outputs": [
    {
     "name": "stdout",
     "output_type": "stream",
     "text": [
      "Even\n",
      "Odd\n"
     ]
    }
   ],
   "source": [
    "def is_even(n):\n",
    "    return \"Even\" if (n & 1) == 0 else \"Odd\"\n",
    "\n",
    "print(is_even(4))\n",
    "print(is_even(7))"
   ]
  },
  {
   "cell_type": "code",
   "execution_count": 11,
   "id": "3544fc1f-3a09-4f60-a9d5-66fe09ba530b",
   "metadata": {},
   "outputs": [],
   "source": [
    "def find_line_with_keyword(filename, keyword):\n",
    "    with open(filename, 'r') as f:\n",
    "        while (line := f.readline()):\n",
    "            if keyword in line:\n",
    "                return line.strip()\n",
    "    return None\n"
   ]
  },
  {
   "cell_type": "code",
   "execution_count": 12,
   "id": "93bf2354-601c-40ea-93a1-1fc0c8d61edd",
   "metadata": {},
   "outputs": [
    {
     "name": "stdout",
     "output_type": "stream",
     "text": [
      "(False, True, True, True)\n"
     ]
    }
   ],
   "source": [
    "def compare_is_and_equals():\n",
    "    a = [1, 2, 3]\n",
    "    b = [1, 2, 3]\n",
    "    x = 5\n",
    "    y = 5\n",
    "    return (a is b, a == b, x is y, x == y)\n",
    "\n",
    "print(compare_is_and_equals())"
   ]
  },
  {
   "cell_type": "code",
   "execution_count": 13,
   "id": "a7053b05-b958-4870-8b78-dbc8274b87d5",
   "metadata": {},
   "outputs": [
    {
     "name": "stdout",
     "output_type": "stream",
     "text": [
      "1157.625\n"
     ]
    }
   ],
   "source": [
    "def compound_interest(principal, rate, time):\n",
    "    amount = principal\n",
    "    for _ in range(time):\n",
    "        amount += amount * rate\n",
    "    return amount\n",
    "\n",
    "print(compound_interest(1000, 0.05, 3))\n"
   ]
  },
  {
   "cell_type": "code",
   "execution_count": 15,
   "id": "ed47e45a-1b1f-4647-98fb-1b8d2cb29c7e",
   "metadata": {},
   "outputs": [
    {
     "name": "stdout",
     "output_type": "stream",
     "text": [
      "57\n"
     ]
    }
   ],
   "source": [
    "def extract_bits(num, start, end):\n",
    "    mask = ((1 << (end - start + 1)) - 1) << start\n",
    "    return (num & mask) >> start\n",
    "\n",
    "print(extract_bits(0b111100110101, 5, 10))\n"
   ]
  },
  {
   "cell_type": "code",
   "execution_count": 16,
   "id": "fbf78829-5a4e-454e-a12a-97e63a6f5c7c",
   "metadata": {},
   "outputs": [
    {
     "name": "stdout",
     "output_type": "stream",
     "text": [
      "1\n",
      "2\n",
      "Fizz\n",
      "4\n",
      "Buzz\n",
      "Fizz\n",
      "7\n",
      "8\n",
      "Fizz\n",
      "Buzz\n",
      "11\n",
      "Fizz\n",
      "13\n",
      "14\n",
      "FizzBuzz\n",
      "16\n",
      "17\n",
      "Fizz\n",
      "19\n",
      "Buzz\n",
      "Fizz\n",
      "22\n",
      "23\n",
      "Fizz\n",
      "Buzz\n",
      "26\n",
      "Fizz\n",
      "28\n",
      "29\n",
      "FizzBuzz\n",
      "31\n",
      "32\n",
      "Fizz\n",
      "34\n",
      "Buzz\n",
      "Fizz\n",
      "37\n",
      "38\n",
      "Fizz\n",
      "Buzz\n",
      "41\n",
      "Fizz\n",
      "43\n",
      "44\n",
      "FizzBuzz\n",
      "46\n",
      "47\n",
      "Fizz\n",
      "49\n",
      "Buzz\n",
      "Fizz\n",
      "52\n",
      "53\n",
      "Fizz\n",
      "Buzz\n",
      "56\n",
      "Fizz\n",
      "58\n",
      "59\n",
      "FizzBuzz\n",
      "61\n",
      "62\n",
      "Fizz\n",
      "64\n",
      "Buzz\n",
      "Fizz\n",
      "67\n",
      "68\n",
      "Fizz\n",
      "Buzz\n",
      "71\n",
      "Fizz\n",
      "73\n",
      "74\n",
      "FizzBuzz\n",
      "76\n",
      "77\n",
      "Fizz\n",
      "79\n",
      "Buzz\n",
      "Fizz\n",
      "82\n",
      "83\n",
      "Fizz\n",
      "Buzz\n",
      "86\n",
      "Fizz\n",
      "88\n",
      "89\n",
      "FizzBuzz\n",
      "91\n",
      "92\n",
      "Fizz\n",
      "94\n",
      "Buzz\n",
      "Fizz\n",
      "97\n",
      "98\n",
      "Fizz\n",
      "Buzz\n"
     ]
    }
   ],
   "source": [
    "for i in range(1, 101):\n",
    "    if i % 3 == 0 and i % 5 == 0:\n",
    "        print(\"FizzBuzz\")\n",
    "    elif i % 3 == 0:\n",
    "        print(\"Fizz\")\n",
    "    elif i % 5 == 0:\n",
    "        print(\"Buzz\")\n",
    "    else:\n",
    "        print(i)\n"
   ]
  },
  {
   "cell_type": "code",
   "execution_count": 17,
   "id": "5e508f3f-e852-49fe-ab49-aae50fc9e9e4",
   "metadata": {},
   "outputs": [
    {
     "name": "stdout",
     "output_type": "stream",
     "text": [
      "[2, 2, 3, 7]\n"
     ]
    }
   ],
   "source": [
    "def prime_factors(n):\n",
    "    factors = []\n",
    "    i = 2\n",
    "    while i * i <= n:\n",
    "        if n % i == 0:\n",
    "            factors.append(i)\n",
    "            n //= i\n",
    "        else:\n",
    "            i += 1\n",
    "    if n > 1:\n",
    "        factors.append(n)\n",
    "    return factors\n",
    "\n",
    "print(prime_factors(84))\n"
   ]
  },
  {
   "cell_type": "code",
   "execution_count": 18,
   "id": "e5d6efcf-b1d2-412a-8253-8f647e7bef20",
   "metadata": {},
   "outputs": [
    {
     "name": "stdout",
     "output_type": "stream",
     "text": [
      "3\n"
     ]
    }
   ],
   "source": [
    "def binary_search(arr, target):\n",
    "    low, high = 0, len(arr) - 1\n",
    "    while low <= high:\n",
    "        mid = (low + high) // 2\n",
    "        if arr[mid] == target:\n",
    "            return mid\n",
    "        elif arr[mid] < target:\n",
    "            low = mid + 1\n",
    "        else:\n",
    "            high = mid - 1\n",
    "    return -1\n",
    "\n",
    "print(binary_search([1, 3, 5, 7, 9, 11], 7))\n"
   ]
  },
  {
   "cell_type": "code",
   "execution_count": 20,
   "id": "86b0cf3c-434b-45d0-899c-0acc9e28e30b",
   "metadata": {},
   "outputs": [
    {
     "name": "stdout",
     "output_type": "stream",
     "text": [
      "You are in a forest. Do you go left or right?\n"
     ]
    },
    {
     "name": "stdin",
     "output_type": "stream",
     "text": [
      "Choice:  left\n"
     ]
    },
    {
     "name": "stdout",
     "output_type": "stream",
     "text": [
      "You find a river. Do you swim or build a raft?\n"
     ]
    },
    {
     "name": "stdin",
     "output_type": "stream",
     "text": [
      "Action:  swim\n"
     ]
    },
    {
     "name": "stdout",
     "output_type": "stream",
     "text": [
      "You were eaten by a crocodile.\n"
     ]
    }
   ],
   "source": [
    "def adventure_game():\n",
    "    print(\"You are in a forest. Do you go left or right?\")\n",
    "    choice = input(\"Choice: \").lower()\n",
    "    if choice == \"left\":\n",
    "        print(\"You find a river. Do you swim or build a raft?\")\n",
    "        action = input(\"Action: \").lower()\n",
    "        if action == \"swim\":\n",
    "            print(\"You were eaten by a crocodile.\")\n",
    "        else:\n",
    "            print(\"You safely crossed the river.\")\n",
    "    elif choice == \"right\":\n",
    "        print(\"You meet a stranger. Talk or run?\")\n",
    "        action = input(\"Action: \").lower()\n",
    "        if action == \"talk\":\n",
    "            print(\"The stranger gives you gold.\")\n",
    "        else:\n",
    "            print(\"You got lost in the woods.\")\n",
    "    else:\n",
    "        print(\"Invalid choice.\")\n",
    "\n",
    "adventure_game()\n"
   ]
  },
  {
   "cell_type": "code",
   "execution_count": 21,
   "id": "265230c6-5bc9-4b04-85e5-35ee67a40d5b",
   "metadata": {},
   "outputs": [
    {
     "name": "stdout",
     "output_type": "stream",
     "text": [
      "6.799993570894003e-06\n",
      "1.9846735000028275\n"
     ]
    }
   ],
   "source": [
    "import timeit\n",
    "\n",
    "def fibonacci_loop(n):\n",
    "    seq = [0, 1]\n",
    "    for i in range(2, n):\n",
    "        seq.append(seq[-1] + seq[-2])\n",
    "    return seq[n-1]\n",
    "\n",
    "def fibonacci_recursion(n):\n",
    "    if n <= 1:\n",
    "        return n\n",
    "    return fibonacci_recursion(n-1) + fibonacci_recursion(n-2)\n",
    "\n",
    "print(timeit.timeit(\"fibonacci_loop(35)\", globals=globals(), number=1))\n",
    "print(timeit.timeit(\"fibonacci_recursion(35)\", globals=globals(), number=1))\n"
   ]
  },
  {
   "cell_type": "code",
   "execution_count": 22,
   "id": "74e374f8-7aef-42f0-904f-5909c35cf5f5",
   "metadata": {},
   "outputs": [
    {
     "name": "stdout",
     "output_type": "stream",
     "text": [
      "[11, 12, 22, 25, 34, 64, 90]\n"
     ]
    }
   ],
   "source": [
    "def bubble_sort(arr):\n",
    "    n = len(arr)\n",
    "    for i in range(n):\n",
    "        for j in range(0, n - i - 1):\n",
    "            if arr[j] > arr[j + 1]:\n",
    "                arr[j], arr[j + 1] = arr[j + 1], arr[j]\n",
    "    return arr\n",
    "\n",
    "print(bubble_sort([64, 34, 25, 12, 22, 11, 90]))\n"
   ]
  },
  {
   "cell_type": "code",
   "execution_count": 23,
   "id": "f8178152-9910-4b86-9a72-27cadaeda010",
   "metadata": {},
   "outputs": [
    {
     "name": "stdout",
     "output_type": "stream",
     "text": [
      "[121, 44, 78987, 1001]\n"
     ]
    }
   ],
   "source": [
    "nums = [121, 123, 44, 78987, 1001, 345]\n",
    "palindromes = list(filter(lambda x: str(x) == str(x)[::-1], nums))\n",
    "print(palindromes)\n"
   ]
  },
  {
   "cell_type": "code",
   "execution_count": 24,
   "id": "d20e741d-d91b-4f4d-b0a1-3baa05f31b26",
   "metadata": {},
   "outputs": [
    {
     "name": "stdout",
     "output_type": "stream",
     "text": [
      "[4, 9, 16, 25, 36]\n"
     ]
    }
   ],
   "source": [
    "a, b, c = 1, 2, 1\n",
    "nums = [1, 2, 3, 4, 5]\n",
    "quadratic = list(map(lambda x: a*x**2 + b*x + c, nums))\n",
    "print(quadratic)\n"
   ]
  },
  {
   "cell_type": "code",
   "execution_count": 25,
   "id": "16e565a6-2594-4929-9cee-13b4f607e195",
   "metadata": {},
   "outputs": [
    {
     "name": "stdout",
     "output_type": "stream",
     "text": [
      "3628800\n"
     ]
    }
   ],
   "source": [
    "from functools import lru_cache\n",
    "\n",
    "@lru_cache(None)\n",
    "def factorial(n):\n",
    "    if n == 0 or n == 1:\n",
    "        return 1\n",
    "    return n * factorial(n - 1)\n",
    "\n",
    "print(factorial(10))\n"
   ]
  },
  {
   "cell_type": "code",
   "execution_count": 26,
   "id": "df1223c8-6222-4b5c-97e7-4a114ab72344",
   "metadata": {},
   "outputs": [
    {
     "name": "stdout",
     "output_type": "stream",
     "text": [
      "Move disk 1 from A to C\n",
      "Move disk 2 from A to B\n",
      "Move disk 1 from C to B\n",
      "Move disk 3 from A to C\n",
      "Move disk 1 from B to A\n",
      "Move disk 2 from B to C\n",
      "Move disk 1 from A to C\n"
     ]
    }
   ],
   "source": [
    "def tower_of_hanoi(n, source, auxiliary, target):\n",
    "    if n == 1:\n",
    "        print(f\"Move disk 1 from {source} to {target}\")\n",
    "        return\n",
    "    tower_of_hanoi(n-1, source, target, auxiliary)\n",
    "    print(f\"Move disk {n} from {source} to {target}\")\n",
    "    tower_of_hanoi(n-1, auxiliary, source, target)\n",
    "\n",
    "tower_of_hanoi(3, 'A', 'B', 'C')\n"
   ]
  },
  {
   "cell_type": "code",
   "execution_count": 27,
   "id": "36e27f06-79e8-415a-b0a5-93de767367dd",
   "metadata": {},
   "outputs": [
    {
     "name": "stdout",
     "output_type": "stream",
     "text": [
      "10\n"
     ]
    }
   ],
   "source": [
    "def bad_scope():\n",
    "    x = 10\n",
    "bad_scope()\n",
    "# print(x)  # Erreur : variable locale inaccessible\n",
    "\n",
    "def good_scope():\n",
    "    x = 10\n",
    "    return x\n",
    "y = good_scope()\n",
    "print(y)\n"
   ]
  },
  {
   "cell_type": "code",
   "execution_count": 28,
   "id": "7594d9cd-cf90-4cac-b90c-a4df2f309f68",
   "metadata": {},
   "outputs": [
    {
     "name": "stdout",
     "output_type": "stream",
     "text": [
      "Execution time: 0.015513181686401367\n"
     ]
    }
   ],
   "source": [
    "import time\n",
    "\n",
    "def timer(func):\n",
    "    def wrapper(*args, **kwargs):\n",
    "        start = time.time()\n",
    "        result = func(*args, **kwargs)\n",
    "        end = time.time()\n",
    "        print(\"Execution time:\", end - start)\n",
    "        return result\n",
    "    return wrapper\n",
    "\n",
    "@timer\n",
    "def slow_function():\n",
    "    for _ in range(10**6):\n",
    "        pass\n",
    "\n",
    "slow_function()\n"
   ]
  },
  {
   "cell_type": "code",
   "execution_count": 29,
   "id": "ec8e52b7-18f4-496e-9406-da7ed81f0c0b",
   "metadata": {},
   "outputs": [
    {
     "name": "stdout",
     "output_type": "stream",
     "text": [
      "[1, 2, 3, 4]\n"
     ]
    }
   ],
   "source": [
    "lists = [[1, 2], [3, 4]]\n",
    "flattened = [x for sublist in lists for x in sublist]\n",
    "print(flattened)\n"
   ]
  },
  {
   "cell_type": "code",
   "execution_count": 30,
   "id": "96c00cd4-c8f6-4e42-892e-671feae8e317",
   "metadata": {},
   "outputs": [
    {
     "name": "stdout",
     "output_type": "stream",
     "text": [
      "[1, 2, 3, 4, 5, 6, 7]\n"
     ]
    }
   ],
   "source": [
    "def flatten_recursive(lst):\n",
    "    result = []\n",
    "    for item in lst:\n",
    "        if isinstance(item, list):\n",
    "            result.extend(flatten_recursive(item))\n",
    "        else:\n",
    "            result.append(item)\n",
    "    return result\n",
    "\n",
    "print(flatten_recursive([1, [2, [3, 4], 5], [6, 7]]))\n"
   ]
  },
  {
   "cell_type": "code",
   "execution_count": 31,
   "id": "1b616a10-bd3f-4618-a9a9-bb3120692b1f",
   "metadata": {},
   "outputs": [
    {
     "name": "stdout",
     "output_type": "stream",
     "text": [
      "apple\n"
     ]
    }
   ],
   "source": [
    "def most_frequent_word(text):\n",
    "    words = text.split()\n",
    "    freq = {}\n",
    "    for w in words:\n",
    "        freq[w] = freq.get(w, 0) + 1\n",
    "    return max(freq, key=freq.get)\n",
    "\n",
    "print(most_frequent_word(\"apple banana apple orange banana apple\"))\n"
   ]
  },
  {
   "cell_type": "code",
   "execution_count": 32,
   "id": "e84a394f-1517-4998-9ac9-5d2a27daeb11",
   "metadata": {},
   "outputs": [
    {
     "name": "stdout",
     "output_type": "stream",
     "text": [
      "{'a': 1, 'b': 2}\n"
     ]
    }
   ],
   "source": [
    "def lists_to_dict(keys, values):\n",
    "    length = min(len(keys), len(values))\n",
    "    return {keys[i]: values[i] for i in range(length)}\n",
    "\n",
    "print(lists_to_dict(['a', 'b', 'c'], [1, 2]))\n"
   ]
  },
  {
   "cell_type": "code",
   "execution_count": 33,
   "id": "2eaf1784-359f-45a5-ad53-d2d4723a5420",
   "metadata": {},
   "outputs": [
    {
     "name": "stdout",
     "output_type": "stream",
     "text": [
      "[1, 2, 3, 4, 5]\n"
     ]
    }
   ],
   "source": [
    "def remove_duplicates(lst):\n",
    "    seen = set()\n",
    "    result = []\n",
    "    for item in lst:\n",
    "        if item not in seen:\n",
    "            seen.add(item)\n",
    "            result.append(item)\n",
    "    return result\n",
    "\n",
    "print(remove_duplicates([1, 2, 2, 3, 4, 1, 5]))\n"
   ]
  },
  {
   "cell_type": "code",
   "execution_count": 34,
   "id": "644c18a1-4f9f-458e-bcf7-2fbefec5ef6b",
   "metadata": {},
   "outputs": [
    {
     "name": "stdout",
     "output_type": "stream",
     "text": [
      "[(1, 'A'), (3, 'C')]\n"
     ]
    }
   ],
   "source": [
    "from collections import OrderedDict\n",
    "\n",
    "class LRUCache:\n",
    "    def __init__(self, capacity):\n",
    "        self.cache = OrderedDict()\n",
    "        self.capacity = capacity\n",
    "\n",
    "    def get(self, key):\n",
    "        if key in self.cache:\n",
    "            self.cache.move_to_end(key)\n",
    "            return self.cache[key]\n",
    "        return -1\n",
    "\n",
    "    def put(self, key, value):\n",
    "        if key in self.cache:\n",
    "            self.cache.move_to_end(key)\n",
    "        self.cache[key] = value\n",
    "        if len(self.cache) > self.capacity:\n",
    "            self.cache.popitem(last=False)\n",
    "\n",
    "cache = LRUCache(2)\n",
    "cache.put(1, 'A')\n",
    "cache.put(2, 'B')\n",
    "cache.get(1)\n",
    "cache.put(3, 'C')\n",
    "print(list(cache.cache.items()))\n"
   ]
  },
  {
   "cell_type": "code",
   "execution_count": 35,
   "id": "1943d963-7c47-425b-a394-7e535f46c01e",
   "metadata": {},
   "outputs": [
    {
     "name": "stdout",
     "output_type": "stream",
     "text": [
      "{1: ['a', 'c'], 2: ['b']}\n"
     ]
    }
   ],
   "source": [
    "def invert_dict(d):\n",
    "    inverted = {}\n",
    "    for k, v in d.items():\n",
    "        inverted.setdefault(v, []).append(k)\n",
    "    return inverted\n",
    "\n",
    "print(invert_dict({'a': 1, 'b': 2, 'c': 1}))\n"
   ]
  },
  {
   "cell_type": "code",
   "execution_count": 36,
   "id": "4a9de3a5-f3da-4954-ac0d-14e17b60516f",
   "metadata": {},
   "outputs": [
    {
     "name": "stdout",
     "output_type": "stream",
     "text": [
      "120\n"
     ]
    }
   ],
   "source": [
    "class BankAccount:\n",
    "    def __init__(self, balance=0):\n",
    "        self.__balance = balance\n",
    "\n",
    "    def deposit(self, amount):\n",
    "        if amount > 0:\n",
    "            self.__balance += amount\n",
    "\n",
    "    def withdraw(self, amount):\n",
    "        if 0 < amount <= self.__balance:\n",
    "            self.__balance -= amount\n",
    "\n",
    "    def get_balance(self):\n",
    "        return self.__balance\n",
    "\n",
    "account = BankAccount(100)\n",
    "account.deposit(50)\n",
    "account.withdraw(30)\n",
    "print(account.get_balance())\n"
   ]
  },
  {
   "cell_type": "code",
   "execution_count": 37,
   "id": "fbd8f9f6-32bb-400c-9713-1e87c64324fc",
   "metadata": {},
   "outputs": [
    {
     "name": "stdout",
     "output_type": "stream",
     "text": [
      "(4, 6)\n",
      "(2, 2)\n",
      "5.0\n"
     ]
    }
   ],
   "source": [
    "import math\n",
    "\n",
    "class Vector:\n",
    "    def __init__(self, x, y):\n",
    "        self.x = x\n",
    "        self.y = y\n",
    "\n",
    "    def __add__(self, other):\n",
    "        return Vector(self.x + other.x, self.y + other.y)\n",
    "\n",
    "    def __sub__(self, other):\n",
    "        return Vector(self.x - other.x, self.y - other.y)\n",
    "\n",
    "    def magnitude(self):\n",
    "        return math.sqrt(self.x**2 + self.y**2)\n",
    "\n",
    "    def __str__(self):\n",
    "        return f\"({self.x}, {self.y})\"\n",
    "\n",
    "v1 = Vector(3, 4)\n",
    "v2 = Vector(1, 2)\n",
    "print(v1 + v2)\n",
    "print(v1 - v2)\n",
    "print(v1.magnitude())\n"
   ]
  },
  {
   "cell_type": "code",
   "execution_count": 38,
   "id": "024b027f-a221-4a7b-9b0a-6abc9a350061",
   "metadata": {},
   "outputs": [
    {
     "name": "stdout",
     "output_type": "stream",
     "text": [
      "Book(title='1984', author='George Orwell', isbn='1234567890')\n"
     ]
    }
   ],
   "source": [
    "class Book:\n",
    "    def __init__(self, title, author, isbn):\n",
    "        self.title = title\n",
    "        self.author = author\n",
    "        self.isbn = isbn\n",
    "\n",
    "    def __repr__(self):\n",
    "        return f\"Book(title={self.title!r}, author={self.author!r}, isbn={self.isbn!r})\"\n",
    "\n",
    "book = Book(\"1984\", \"George Orwell\", \"1234567890\")\n",
    "print(book)\n"
   ]
  },
  {
   "cell_type": "code",
   "execution_count": 39,
   "id": "ec628a4e-0ce4-4b59-b25b-8be2c9a96c54",
   "metadata": {},
   "outputs": [
    {
     "name": "stdout",
     "output_type": "stream",
     "text": [
      "Toyota Corolla with 4 doors\n",
      "Trek FX 3 with 21 gears\n",
      "Volvo FH with capacity 18 tons\n"
     ]
    }
   ],
   "source": [
    "class Vehicle:\n",
    "    def __init__(self, brand, model):\n",
    "        self.brand = brand\n",
    "        self.model = model\n",
    "\n",
    "    def info(self):\n",
    "        return f\"{self.brand} {self.model}\"\n",
    "\n",
    "class Car(Vehicle):\n",
    "    def __init__(self, brand, model, doors):\n",
    "        super().__init__(brand, model)\n",
    "        self.doors = doors\n",
    "\n",
    "    def info(self):\n",
    "        return f\"{self.brand} {self.model} with {self.doors} doors\"\n",
    "\n",
    "class Bicycle(Vehicle):\n",
    "    def __init__(self, brand, model, gear_count):\n",
    "        super().__init__(brand, model)\n",
    "        self.gear_count = gear_count\n",
    "\n",
    "    def info(self):\n",
    "        return f\"{self.brand} {self.model} with {self.gear_count} gears\"\n",
    "\n",
    "class Truck(Vehicle):\n",
    "    def __init__(self, brand, model, capacity):\n",
    "        super().__init__(brand, model)\n",
    "        self.capacity = capacity\n",
    "\n",
    "    def info(self):\n",
    "        return f\"{self.brand} {self.model} with capacity {self.capacity} tons\"\n",
    "\n",
    "car = Car(\"Toyota\", \"Corolla\", 4)\n",
    "bike = Bicycle(\"Trek\", \"FX 3\", 21)\n",
    "truck = Truck(\"Volvo\", \"FH\", 18)\n",
    "print(car.info())\n",
    "print(bike.info())\n",
    "print(truck.info())\n"
   ]
  },
  {
   "cell_type": "code",
   "execution_count": 40,
   "id": "d0a9d610-c2c9-4c2b-8f52-28db8336c9e0",
   "metadata": {},
   "outputs": [
    {
     "name": "stdout",
     "output_type": "stream",
     "text": [
      "78.53981633974483\n",
      "24\n",
      "12.0\n"
     ]
    }
   ],
   "source": [
    "from abc import ABC, abstractmethod\n",
    "import math\n",
    "\n",
    "class Shape(ABC):\n",
    "    @abstractmethod\n",
    "    def area(self):\n",
    "        pass\n",
    "\n",
    "class Circle(Shape):\n",
    "    def __init__(self, radius):\n",
    "        self.radius = radius\n",
    "\n",
    "    def area(self):\n",
    "        return math.pi * self.radius ** 2\n",
    "\n",
    "class Rectangle(Shape):\n",
    "    def __init__(self, width, height):\n",
    "        self.width = width\n",
    "        self.height = height\n",
    "\n",
    "    def area(self):\n",
    "        return self.width * self.height\n",
    "\n",
    "class Triangle(Shape):\n",
    "    def __init__(self, base, height):\n",
    "        self.base = base\n",
    "        self.height = height\n",
    "\n",
    "    def area(self):\n",
    "        return 0.5 * self.base * self.height\n",
    "\n",
    "print(Circle(5).area())\n",
    "print(Rectangle(4, 6).area())\n",
    "print(Triangle(3, 8).area())\n"
   ]
  },
  {
   "cell_type": "code",
   "execution_count": 41,
   "id": "d6477bdd-0d88-4acc-a5ad-d666ca37b578",
   "metadata": {},
   "outputs": [
    {
     "name": "stdout",
     "output_type": "stream",
     "text": [
      "Connected to WiFi\n",
      "Calling 123456789\n",
      "Photo taken\n",
      "(<class '__main__.SmartPhone'>, <class '__main__.SmartDevice'>, <class '__main__.Phone'>, <class 'object'>)\n"
     ]
    }
   ],
   "source": [
    "class SmartDevice:\n",
    "    def connect_wifi(self):\n",
    "        return \"Connected to WiFi\"\n",
    "\n",
    "class Phone:\n",
    "    def make_call(self, number):\n",
    "        return f\"Calling {number}\"\n",
    "\n",
    "class SmartPhone(SmartDevice, Phone):\n",
    "    def take_photo(self):\n",
    "        return \"Photo taken\"\n",
    "\n",
    "phone = SmartPhone()\n",
    "print(phone.connect_wifi())\n",
    "print(phone.make_call(\"123456789\"))\n",
    "print(phone.take_photo())\n",
    "print(SmartPhone.__mro__)\n"
   ]
  },
  {
   "cell_type": "code",
   "execution_count": 42,
   "id": "c675c284-d13d-4ca0-a264-99a511e38725",
   "metadata": {},
   "outputs": [
    {
     "name": "stdout",
     "output_type": "stream",
     "text": [
      "Drawing a Circle\n",
      "Drawing a Rectangle\n",
      "Drawing a Triangle\n"
     ]
    }
   ],
   "source": [
    "class Shape:\n",
    "    def draw(self):\n",
    "        pass\n",
    "\n",
    "class Circle(Shape):\n",
    "    def draw(self):\n",
    "        print(\"Drawing a Circle\")\n",
    "\n",
    "class Rectangle(Shape):\n",
    "    def draw(self):\n",
    "        print(\"Drawing a Rectangle\")\n",
    "\n",
    "class Triangle(Shape):\n",
    "    def draw(self):\n",
    "        print(\"Drawing a Triangle\")\n",
    "\n",
    "shapes = [Circle(), Rectangle(), Triangle()]\n",
    "for s in shapes:\n",
    "    s.draw()\n"
   ]
  },
  {
   "cell_type": "code",
   "execution_count": 43,
   "id": "bb4f52d5-c78d-40af-b141-d7516661bc70",
   "metadata": {},
   "outputs": [
    {
     "name": "stdout",
     "output_type": "stream",
     "text": [
      "120\n",
      "500\n"
     ]
    }
   ],
   "source": [
    "class BankAccount:\n",
    "    def __init__(self, balance=0):\n",
    "        self.__balance = balance\n",
    "\n",
    "    @property\n",
    "    def balance(self):\n",
    "        return self.__balance\n",
    "\n",
    "    @balance.setter\n",
    "    def balance(self, value):\n",
    "        if value >= 0:\n",
    "            self.__balance = value\n",
    "\n",
    "    def deposit(self, amount):\n",
    "        if amount > 0:\n",
    "            self.__balance += amount\n",
    "\n",
    "    def withdraw(self, amount):\n",
    "        if 0 < amount <= self.__balance:\n",
    "            self.__balance -= amount\n",
    "\n",
    "account = BankAccount(100)\n",
    "account.deposit(50)\n",
    "account.withdraw(30)\n",
    "print(account.balance)\n",
    "account.balance = 500\n",
    "print(account.balance)\n"
   ]
  },
  {
   "cell_type": "code",
   "execution_count": 44,
   "id": "0e0966d0-4185-4131-b4da-92f143d98d41",
   "metadata": {},
   "outputs": [
    {
     "name": "stdout",
     "output_type": "stream",
     "text": [
      "{'brand': 'Toyota', 'model': 'Corolla'}\n",
      "{'title': '1984', 'author': 'George Orwell', 'isbn': '1234567890'}\n"
     ]
    }
   ],
   "source": [
    "class Printable:\n",
    "    def print_info(self):\n",
    "        print(self.__dict__)\n",
    "\n",
    "class Vehicle(Printable):\n",
    "    def __init__(self, brand, model):\n",
    "        self.brand = brand\n",
    "        self.model = model\n",
    "\n",
    "class Book(Printable):\n",
    "    def __init__(self, title, author, isbn):\n",
    "        self.title = title\n",
    "        self.author = author\n",
    "        self.isbn = isbn\n",
    "\n",
    "v = Vehicle(\"Toyota\", \"Corolla\")\n",
    "b = Book(\"1984\", \"George Orwell\", \"1234567890\")\n",
    "v.print_info()\n",
    "b.print_info()\n"
   ]
  },
  {
   "cell_type": "code",
   "execution_count": 50,
   "id": "e5d27f76-3729-4ed4-9f18-b406c7c85b97",
   "metadata": {},
   "outputs": [
    {
     "name": "stdout",
     "output_type": "stream",
     "text": [
      "Writing mymath.py\n"
     ]
    }
   ],
   "source": [
    "%%writefile mymath.py\n",
    "import math\n",
    "def add(a, b): return a + b\n",
    "def multiply(a, b): return a * b\n",
    "def sqrt(x): return math.sqrt(x)"
   ]
  },
  {
   "cell_type": "code",
   "execution_count": 51,
   "id": "20473288-e1fc-4e1a-b2f9-7c5c5c2f7328",
   "metadata": {},
   "outputs": [
    {
     "name": "stdout",
     "output_type": "stream",
     "text": [
      "8\n",
      "8\n",
      "4.0\n"
     ]
    }
   ],
   "source": [
    "import mymath\n",
    "\n",
    "print(mymath.add(5, 3))\n",
    "print(mymath.multiply(4, 2))\n",
    "print(mymath.sqrt(16))"
   ]
  },
  {
   "cell_type": "code",
   "execution_count": 62,
   "id": "8b6d7b79-7260-4e7a-926f-92f2b486e046",
   "metadata": {},
   "outputs": [
    {
     "name": "stderr",
     "output_type": "stream",
     "text": [
      "Un sous-r‚pertoire ou un fichier -p existe d‚j….\n",
      "Une erreur s'est produite lors du traitement deÿ: -p.\n",
      "Un sous-r‚pertoire ou un fichier mypackage existe d‚j….\n",
      "Une erreur s'est produite lors du traitement deÿ: mypackage.\n"
     ]
    }
   ],
   "source": [
    "!mkdir -p mypackage\n"
   ]
  },
  {
   "cell_type": "code",
   "execution_count": 63,
   "id": "19212e4d-8e15-4900-8f4c-4a81990111af",
   "metadata": {},
   "outputs": [
    {
     "name": "stderr",
     "output_type": "stream",
     "text": [
      "UsageError: %%writefile is a cell magic, but the cell body is empty.\n"
     ]
    }
   ],
   "source": [
    "%%writefile mypackage/__init__.py\n"
   ]
  },
  {
   "cell_type": "code",
   "execution_count": 64,
   "id": "cf2bf362-4063-47ca-ab41-7976683e8036",
   "metadata": {},
   "outputs": [
    {
     "name": "stdout",
     "output_type": "stream",
     "text": [
      "Overwriting mypackage/module1.py\n"
     ]
    }
   ],
   "source": [
    "%%writefile mypackage/module1.py\n",
    "def greet(name):\n",
    "    return f\"Hello, {name}!\"\n"
   ]
  },
  {
   "cell_type": "code",
   "execution_count": 65,
   "id": "7345d618-9930-4873-abe7-6bfa7eabf28f",
   "metadata": {},
   "outputs": [
    {
     "name": "stdout",
     "output_type": "stream",
     "text": [
      "Overwriting mypackage/module2.py\n"
     ]
    }
   ],
   "source": [
    "%%writefile mypackage/module2.py\n",
    "from .module1 import greet\n",
    "\n",
    "def welcome(name):\n",
    "    return greet(name) + \" Welcome to the package.\"\n"
   ]
  },
  {
   "cell_type": "code",
   "execution_count": 66,
   "id": "e4c25c60-6014-43bc-ab72-668ceb0ed430",
   "metadata": {},
   "outputs": [
    {
     "name": "stdout",
     "output_type": "stream",
     "text": [
      "Hello, Fadel! Welcome to the package.\n"
     ]
    }
   ],
   "source": [
    "from mypackage.module2 import welcome\n",
    "print(welcome(\"Fadel\"))\n"
   ]
  },
  {
   "cell_type": "code",
   "execution_count": 67,
   "id": "4309db55-462f-4f46-9b18-a57f98ef5c7f",
   "metadata": {},
   "outputs": [
    {
     "name": "stdout",
     "output_type": "stream",
     "text": [
      "Arguments reçus : ['arg1', 'arg2', 'arg3']\n"
     ]
    }
   ],
   "source": [
    "import sys\n",
    "\n",
    "sys.argv = [\"notebook\", \"arg1\", \"arg2\", \"arg3\"]\n",
    "\n",
    "if len(sys.argv) > 1:\n",
    "    print(\"Arguments reçus :\", sys.argv[1:])\n",
    "else:\n",
    "    print(\"Aucun argument fourni.\")"
   ]
  },
  {
   "cell_type": "code",
   "execution_count": 68,
   "id": "69236067-4398-476c-bbae-e718149d56ca",
   "metadata": {},
   "outputs": [
    {
     "name": "stdout",
     "output_type": "stream",
     "text": [
      "Writing module_test.py\n"
     ]
    }
   ],
   "source": [
    "%%writefile module_test.py\n",
    "def main():\n",
    "    print(\"Ce module est exécuté directement.\")\n",
    "\n",
    "if __name__ == \"__main__\":\n",
    "    main()"
   ]
  },
  {
   "cell_type": "code",
   "execution_count": 69,
   "id": "0b8fae76-6756-4423-a75a-d9e46bf748ce",
   "metadata": {},
   "outputs": [],
   "source": [
    "import module_test\n"
   ]
  },
  {
   "cell_type": "code",
   "execution_count": 70,
   "id": "e638a2bb-4f8d-48d6-a6f0-8df24616f828",
   "metadata": {},
   "outputs": [
    {
     "name": "stdout",
     "output_type": "stream",
     "text": [
      "Ce module est exécuté directement.\n"
     ]
    }
   ],
   "source": [
    "!python module_test.py\n"
   ]
  },
  {
   "cell_type": "code",
   "execution_count": 72,
   "id": "3c2a0e19-932d-4d9a-bea0-60412c4a8395",
   "metadata": {},
   "outputs": [
    {
     "name": "stdin",
     "output_type": "stream",
     "text": [
      "Enter an integer:  1\n"
     ]
    },
    {
     "data": {
      "text/plain": [
       "1"
      ]
     },
     "execution_count": 72,
     "metadata": {},
     "output_type": "execute_result"
    }
   ],
   "source": [
    "def get_integer():\n",
    "    while True:\n",
    "        try:\n",
    "            n = int(input(\"Enter an integer: \"))\n",
    "            return n\n",
    "        except ValueError:\n",
    "            print(\"Invalid input, try again.\")\n",
    "\n",
    "get_integer()  \n"
   ]
  },
  {
   "cell_type": "code",
   "execution_count": 77,
   "id": "10af7acd-027e-45b2-a5ed-5a5139d7353f",
   "metadata": {},
   "outputs": [],
   "source": [
    "import os\n",
    "\n",
    "class ChangeDir:\n",
    "    def __init__(self, path):\n",
    "        self.path = path\n",
    "        self.original = os.getcwd()\n",
    "    def __enter__(self):\n",
    "        os.chdir(self.path)\n",
    "    def __exit__(self, exc_type, exc_val, exc_tb):\n",
    "        os.chdir(self.original)\n",
    "\n",
    "# Exemple d'utilisation :\n",
    "# with ChangeDir(\"/tmp\"):\n",
    "#     print(os.getcwd())\n",
    "# print(os.getcwd())\n"
   ]
  },
  {
   "cell_type": "code",
   "execution_count": 78,
   "id": "c9475792-2f96-44e2-b3cd-ed7bcc8c916d",
   "metadata": {},
   "outputs": [
    {
     "name": "stdout",
     "output_type": "stream",
     "text": [
      "Invalid email format.\n"
     ]
    }
   ],
   "source": [
    "class InvalidEmailError(Exception):\n",
    "    pass\n",
    "\n",
    "def validate_user(username, age, email):\n",
    "    if not isinstance(username, str):\n",
    "        return False\n",
    "    try:\n",
    "        age = int(age)\n",
    "    except ValueError:\n",
    "        return False\n",
    "    if \"@\" not in email:\n",
    "        raise InvalidEmailError(\"Invalid email format.\")\n",
    "    return True\n",
    "\n",
    "try:\n",
    "    print(validate_user(\"Fadel\", 25, \"fadelgmail.com\"))\n",
    "except InvalidEmailError as e:\n",
    "    print(e)\n"
   ]
  },
  {
   "cell_type": "code",
   "execution_count": 79,
   "id": "8b35314c-2145-428e-93f4-6e7fe33e4731",
   "metadata": {},
   "outputs": [
    {
     "name": "stdout",
     "output_type": "stream",
     "text": [
      "80.0\n"
     ]
    }
   ],
   "source": [
    "import csv\n",
    "\n",
    "with open(\"data.csv\", \"w\", newline=\"\") as f:\n",
    "    writer = csv.writer(f)\n",
    "    writer.writerow([\"name\", \"score\"])\n",
    "    writer.writerow([\"Alice\", 80])\n",
    "    writer.writerow([\"Bob\", 90])\n",
    "    writer.writerow([\"Charlie\", 70])\n",
    "\n",
    "def average_column(filename, column):\n",
    "    with open(filename, newline=\"\") as f:\n",
    "        reader = csv.DictReader(f)\n",
    "        values = [float(row[column]) for row in reader]\n",
    "    return sum(values) / len(values)\n",
    "\n",
    "print(average_column(\"data.csv\", \"score\"))\n"
   ]
  },
  {
   "cell_type": "code",
   "execution_count": 80,
   "id": "79679830-8f18-4bab-a9c8-1339a72e80d0",
   "metadata": {},
   "outputs": [],
   "source": [
    "def copy_file(src, dest):\n",
    "    with open(src, \"r\") as f1, open(dest, \"w\") as f2:\n",
    "        f2.write(f1.read())\n",
    "\n",
    "copy_file(\"data.csv\", \"data_copy.csv\")\n"
   ]
  },
  {
   "cell_type": "code",
   "execution_count": 81,
   "id": "40625d06-2e3b-4b6a-ab0f-e2cb8fedb628",
   "metadata": {},
   "outputs": [
    {
     "name": "stdout",
     "output_type": "stream",
     "text": [
      "ERROR: disk not found\n",
      "ERROR: connection lost\n",
      "\n"
     ]
    }
   ],
   "source": [
    "with open(\"log.txt\", \"w\") as f:\n",
    "    f.write(\"INFO: system started\\n\")\n",
    "    f.write(\"ERROR: disk not found\\n\")\n",
    "    f.write(\"INFO: retrying\\n\")\n",
    "    f.write(\"ERROR: connection lost\\n\")\n",
    "\n",
    "def error_lines(filename):\n",
    "    with open(filename, \"r\") as f:\n",
    "        for line in f:\n",
    "            if \"ERROR\" in line:\n",
    "                yield line\n",
    "\n",
    "with open(\"errors.txt\", \"w\") as out:\n",
    "    for line in error_lines(\"log.txt\"):\n",
    "        out.write(line)\n",
    "\n",
    "with open(\"errors.txt\") as f:\n",
    "    print(f.read())\n"
   ]
  },
  {
   "cell_type": "code",
   "execution_count": 82,
   "id": "a59d0e27-866d-403f-9c99-37dfec18569a",
   "metadata": {},
   "outputs": [
    {
     "name": "stdout",
     "output_type": "stream",
     "text": [
      "{\"name\": \"Fadel\", \"age\": 26}\n"
     ]
    }
   ],
   "source": [
    "import json\n",
    "\n",
    "data = {\"name\": \"Fadel\", \"age\": 25}\n",
    "with open(\"user.json\", \"w\") as f:\n",
    "    json.dump(data, f)\n",
    "\n",
    "with open(\"user.json\", \"r\") as f:\n",
    "    user = json.load(f)\n",
    "\n",
    "user[\"age\"] = 26\n",
    "\n",
    "with open(\"user.json\", \"w\") as f:\n",
    "    json.dump(user, f)\n",
    "\n",
    "with open(\"user.json\") as f:\n",
    "    print(f.read())\n"
   ]
  },
  {
   "cell_type": "code",
   "execution_count": 83,
   "id": "41d06cf0-a329-4c77-ba7b-165aaad9da85",
   "metadata": {},
   "outputs": [
    {
     "name": "stdout",
     "output_type": "stream",
     "text": [
      "True\n",
      "False\n"
     ]
    }
   ],
   "source": [
    "import re\n",
    "\n",
    "def validate_email(email):\n",
    "    pattern = r\"^[\\w\\.-]+@[\\w\\.-]+\\.\\w+$\"\n",
    "    return bool(re.match(pattern, email))\n",
    "\n",
    "print(validate_email(\"fadel@example.com\"))\n",
    "print(validate_email(\"invalid@com\"))\n"
   ]
  },
  {
   "cell_type": "code",
   "execution_count": 84,
   "id": "dd4a0319-de58-4d89-99b0-0bd4ff70d4f5",
   "metadata": {},
   "outputs": [
    {
     "name": "stdout",
     "output_type": "stream",
     "text": [
      "['2025-10-06', '2023-09-15', '2024-12-01']\n"
     ]
    }
   ],
   "source": [
    "text = \"Today's date is 2025-10-06. The project started on 2023-09-15 and ended on 2024-12-01.\"\n",
    "dates = re.findall(r\"\\b\\d{4}-\\d{2}-\\d{2}\\b\", text)\n",
    "print(dates)\n"
   ]
  },
  {
   "cell_type": "code",
   "execution_count": 85,
   "id": "280f32dc-890d-4cd7-a8b3-76b96be1654a",
   "metadata": {},
   "outputs": [
    {
     "name": "stdout",
     "output_type": "stream",
     "text": [
      "This is a *** example of a *** word.\n"
     ]
    }
   ],
   "source": [
    "text = \"This is a bad example of a bad word.\"\n",
    "censored = re.sub(r\"\\bbad\\b\", \"***\", text, flags=re.IGNORECASE)\n",
    "print(censored)\n"
   ]
  },
  {
   "cell_type": "code",
   "execution_count": 86,
   "id": "1bb13172-8773-4053-a557-49350528cea5",
   "metadata": {},
   "outputs": [
    {
     "name": "stdout",
     "output_type": "stream",
     "text": [
      "{'level': 'ERROR', 'date': '2023-10-27', 'time': '14:32:10', 'message': 'Connection failed'}\n"
     ]
    }
   ],
   "source": [
    "log = \"ERROR 2023-10-27 14:32:10: Connection failed\"\n",
    "pattern = r\"(?P<level>[A-Z]+)\\s(?P<date>\\d{4}-\\d{2}-\\d{2})\\s(?P<time>\\d{2}:\\d{2}:\\d{2}):\\s(?P<message>.+)\"\n",
    "match = re.match(pattern, log)\n",
    "if match:\n",
    "    print(match.groupdict())\n"
   ]
  },
  {
   "cell_type": "code",
   "execution_count": 87,
   "id": "3352c9c3-d52e-4974-9823-5138bef5804b",
   "metadata": {},
   "outputs": [],
   "source": [
    "import sqlite3\n",
    "\n",
    "conn = sqlite3.connect(\"users.db\")\n",
    "cursor = conn.cursor()\n",
    "\n",
    "cursor.execute(\"\"\"\n",
    "CREATE TABLE IF NOT EXISTS users (\n",
    "    id INTEGER PRIMARY KEY AUTOINCREMENT,\n",
    "    name TEXT,\n",
    "    email TEXT\n",
    ")\n",
    "\"\"\")\n",
    "conn.commit()\n",
    "conn.close()\n"
   ]
  },
  {
   "cell_type": "code",
   "execution_count": 88,
   "id": "afcb3add-0c30-4b08-b93e-dd6408870acc",
   "metadata": {},
   "outputs": [],
   "source": [
    "def insert_user(name, email):\n",
    "    conn = sqlite3.connect(\"users.db\")\n",
    "    cursor = conn.cursor()\n",
    "    cursor.execute(\"INSERT INTO users (name, email) VALUES (?, ?)\", (name, email))\n",
    "    conn.commit()\n",
    "    conn.close()\n",
    "\n",
    "insert_user(\"Fadel\", \"fadel@example.com\")\n",
    "insert_user(\"Amina\", \"amina@example.com\")\n"
   ]
  },
  {
   "cell_type": "code",
   "execution_count": 89,
   "id": "8f33902e-f138-4b2a-a014-c3a5c7205a8a",
   "metadata": {},
   "outputs": [
    {
     "name": "stdout",
     "output_type": "stream",
     "text": [
      "[(1, 'Fadel', 'fadel@example.com'), (2, 'Amina', 'amina@example.com')]\n"
     ]
    }
   ],
   "source": [
    "def get_all_users():\n",
    "    conn = sqlite3.connect(\"users.db\")\n",
    "    cursor = conn.cursor()\n",
    "    cursor.execute(\"SELECT * FROM users\")\n",
    "    rows = cursor.fetchall()\n",
    "    conn.close()\n",
    "    return rows\n",
    "\n",
    "print(get_all_users())\n"
   ]
  },
  {
   "cell_type": "code",
   "execution_count": 90,
   "id": "111f1842-f39f-4385-a0ed-fac00bc88096",
   "metadata": {},
   "outputs": [
    {
     "name": "stdout",
     "output_type": "stream",
     "text": [
      "[(1, 'Fadel', 'newfadel@example.com'), (2, 'Amina', 'amina@example.com')]\n"
     ]
    }
   ],
   "source": [
    "def update_email(user_id, new_email):\n",
    "    conn = sqlite3.connect(\"users.db\")\n",
    "    cursor = conn.cursor()\n",
    "    cursor.execute(\"UPDATE users SET email = ? WHERE id = ?\", (new_email, user_id))\n",
    "    conn.commit()\n",
    "    conn.close()\n",
    "\n",
    "update_email(1, \"newfadel@example.com\")\n",
    "print(get_all_users())\n"
   ]
  },
  {
   "cell_type": "code",
   "execution_count": 91,
   "id": "2706466c-40bd-4272-a67e-52931b64be96",
   "metadata": {},
   "outputs": [
    {
     "name": "stdout",
     "output_type": "stream",
     "text": [
      "[(1, 'Fadel', 'newfadel@example.com'), (2, 'Amina', 'amina@example.com'), (3, 'Karim', 'karim@example.com')]\n",
      "[(1, 'Fadel', 'newfadel@example.com'), (2, 'Amina', 'amina.new@example.com'), (3, 'Karim', 'karim@example.com')]\n",
      "[(1, 'Fadel', 'newfadel@example.com'), (2, 'Amina', 'amina.new@example.com')]\n"
     ]
    }
   ],
   "source": [
    "class UserDAO:\n",
    "    def __init__(self, db_name=\"users.db\"):\n",
    "        self.db_name = db_name\n",
    "\n",
    "    def create_user(self, name, email):\n",
    "        conn = sqlite3.connect(self.db_name)\n",
    "        cursor = conn.cursor()\n",
    "        cursor.execute(\"INSERT INTO users (name, email) VALUES (?, ?)\", (name, email))\n",
    "        conn.commit()\n",
    "        conn.close()\n",
    "\n",
    "    def get_users(self):\n",
    "        conn = sqlite3.connect(self.db_name)\n",
    "        cursor = conn.cursor()\n",
    "        cursor.execute(\"SELECT * FROM users\")\n",
    "        rows = cursor.fetchall()\n",
    "        conn.close()\n",
    "        return rows\n",
    "\n",
    "    def update_user(self, user_id, email):\n",
    "        conn = sqlite3.connect(self.db_name)\n",
    "        cursor = conn.cursor()\n",
    "        cursor.execute(\"UPDATE users SET email = ? WHERE id = ?\", (email, user_id))\n",
    "        conn.commit()\n",
    "        conn.close()\n",
    "\n",
    "    def delete_user(self, user_id):\n",
    "        conn = sqlite3.connect(self.db_name)\n",
    "        cursor = conn.cursor()\n",
    "        cursor.execute(\"DELETE FROM users WHERE id = ?\", (user_id,))\n",
    "        conn.commit()\n",
    "        conn.close()\n",
    "\n",
    "dao = UserDAO()\n",
    "dao.create_user(\"Karim\", \"karim@example.com\")\n",
    "print(dao.get_users())\n",
    "dao.update_user(2, \"amina.new@example.com\")\n",
    "print(dao.get_users())\n",
    "dao.delete_user(3)\n",
    "print(dao.get_users())\n"
   ]
  },
  {
   "cell_type": "code",
   "execution_count": 1,
   "id": "d1979222-b9f3-4e31-bbd3-73b2b4217b2f",
   "metadata": {},
   "outputs": [
    {
     "name": "stdout",
     "output_type": "stream",
     "text": [
      "[[ 49  17 -58  59 -92  53 -72  -8 -76  95]\n",
      " [ 55  69  43  23 -38  27 -38 -40  21   3]\n",
      " [ 35 -78 -88  -6 -30 -12 -26   7 -28 -18]\n",
      " [-22  37  91  73  -4  39  39  53 -36  11]\n",
      " [-92 -86  91 -80 -98 -96  13 -28  25 -66]\n",
      " [-82 -88  61  91  27 -42 -78 -44  11  83]\n",
      " [-16   1  57  51 -86 -72  67  59 -38 -40]\n",
      " [ 71  -2 -12 -54 -60  95 -82 -44 -20  65]\n",
      " [ 33  63 -72  19  25  47  41  55 -22 -58]\n",
      " [ 19 -52 -88 -74  79  63  65 -20 -12  15]]\n"
     ]
    }
   ],
   "source": [
    "import numpy as np\n",
    "\n",
    "arr = np.random.randint(1, 101, (10, 10))\n",
    "arr[arr % 2 == 0] = -arr[arr % 2 == 0]\n",
    "print(arr)\n"
   ]
  },
  {
   "cell_type": "code",
   "execution_count": 2,
   "id": "f0b5050d-7697-49bd-9dd6-064be8250be3",
   "metadata": {},
   "outputs": [
    {
     "name": "stdout",
     "output_type": "stream",
     "text": [
      "[118.59611568 200.67214526 195.37345817  87.3863442  109.03732605\n",
      " 163.78629289 110.99916972 141.11496902 177.52705379 121.757987\n",
      " 176.31146596 153.50814495 145.76196222 146.44517057  86.34767976\n",
      " 133.70551797 117.7257341  185.42504485  80.29876416 133.16861816\n",
      " 149.05005267 156.76360448 207.0485874  140.05512192 180.67877669\n",
      " 199.01790134 113.83659698 196.90897581 190.70110204 119.25668724\n",
      " 184.69607106 124.61134588 116.93278481 188.21748131 157.57698464\n",
      " 117.49013478  88.64462363 180.02892499 125.04345054 146.17670596\n",
      "  96.90055238 191.80970869  96.52546515 136.46621385 149.88378133\n",
      " 123.58736734 149.19159867 175.22602491 179.47103183 149.47755886\n",
      " 203.81737448 119.25457829 186.81276268 162.73303703 177.04270874\n",
      " 179.31351302 170.97464403 181.00396846 147.97758225 173.90274545\n",
      " 145.90471293 153.54143675 156.99013926 198.06572665 166.77335033\n",
      " 140.32088723 187.39518662 197.83584338 101.8138411  133.23581916\n",
      " 150.45105011  82.17822995 176.14842935 117.95558687 152.37053582\n",
      " 107.7812435  183.25688063 120.95207424 207.74337631 183.46617252\n",
      " 197.52771035 113.46203928 209.91283312]\n"
     ]
    }
   ],
   "source": [
    "temps = np.random.uniform(32, 212, 100)\n",
    "hot = temps[temps > 80]\n",
    "print(hot)\n"
   ]
  },
  {
   "cell_type": "code",
   "execution_count": 3,
   "id": "5caa1e97-239c-4e0b-aa1a-4658cf610681",
   "metadata": {},
   "outputs": [
    {
     "name": "stdout",
     "output_type": "stream",
     "text": [
      "[[0.42426891 0.59870951 0.94216634 0.3361148  0.31546877]\n",
      " [0.22804267 0.2739573  0.27571499 0.41191054 0.72261885]\n",
      " [0.20468823 0.52684942 0.17782216 0.05094373 0.35908189]\n",
      " [0.48320142 0.10863181 0.13699749 0.03905969 0.40260537]\n",
      " [0.74516388 0.55703316 0.4895627  0.13054897 0.8707385 ]]\n"
     ]
    }
   ],
   "source": [
    "a = np.random.rand(5, 5)\n",
    "b = np.random.rand(5, 5)\n",
    "distance = np.sqrt((a - b) ** 2)\n",
    "print(distance)\n"
   ]
  },
  {
   "cell_type": "code",
   "execution_count": 4,
   "id": "75972a26-728f-4346-811e-df7ca39beff1",
   "metadata": {},
   "outputs": [
    {
     "name": "stdout",
     "output_type": "stream",
     "text": [
      "[[ 0.01845054 -0.43060333  0.43003129 -0.58350059  0.15785749]\n",
      " [-0.34036083  0.01046507  0.2141914  -0.44313227  0.21091075]\n",
      " [-0.51104446  0.28052965  0.79669604  0.15611757 -0.10230055]\n",
      " [-0.60738026 -0.40315568  0.52356483 -0.10591565  0.22969832]\n",
      " [-0.19956252  0.16454795  0.5258789  -0.45793838  0.69370042]\n",
      " [-0.686907   -0.34114562  0.17951755  0.15099318  0.60687358]\n",
      " [-0.04733726  0.24000379  0.2255951  -0.30276228  0.18710548]\n",
      " [-0.08381496 -0.20809995  0.51850763 -0.33216119  0.13269424]\n",
      " [ 0.15832108  0.55048354  0.04614743  0.28413177  0.49111922]\n",
      " [-0.66988623  0.04921364  0.547066   -0.24217911  0.76063497]]\n"
     ]
    }
   ],
   "source": [
    "v = np.random.rand(5)\n",
    "M = np.random.rand(10, 5)\n",
    "result = M - v\n",
    "print(result)\n"
   ]
  },
  {
   "cell_type": "code",
   "execution_count": 5,
   "id": "4d3077f0-3063-489d-bd54-3e384e2abf01",
   "metadata": {},
   "outputs": [
    {
     "name": "stdout",
     "output_type": "stream",
     "text": [
      "[2. 3.]\n",
      "True\n"
     ]
    }
   ],
   "source": [
    "A = np.array([[3, 1], [1, 2]])\n",
    "b = np.array([9, 8])\n",
    "x = np.linalg.solve(A, b)\n",
    "print(x)\n",
    "print(np.allclose(np.dot(A, x), b))\n"
   ]
  },
  {
   "cell_type": "code",
   "execution_count": 6,
   "id": "7d7097b1-d32d-49fe-9de5-33720d5d0c21",
   "metadata": {},
   "outputs": [
    {
     "name": "stdout",
     "output_type": "stream",
     "text": [
      "        date  daily_sales  rolling_avg\n",
      "0 2025-01-01          224          NaN\n",
      "1 2025-01-02          183          NaN\n",
      "2 2025-01-03          420          NaN\n",
      "3 2025-01-04          118          NaN\n",
      "4 2025-01-05           68          NaN\n",
      "5 2025-01-06          376          NaN\n",
      "6 2025-01-07          475   266.285714\n",
      "7 2025-01-08          356   285.142857\n",
      "8 2025-01-09           72   269.285714\n",
      "9 2025-01-10          303   252.571429\n"
     ]
    }
   ],
   "source": [
    "import pandas as pd\n",
    "import numpy as np\n",
    "\n",
    "data = {\"date\": pd.date_range(start=\"2025-01-01\", periods=30, freq=\"D\"),\n",
    "        \"daily_sales\": np.random.randint(50, 500, 30)}\n",
    "df = pd.DataFrame(data)\n",
    "df[\"rolling_avg\"] = df[\"daily_sales\"].rolling(window=7).mean()\n",
    "print(df.head(10))\n"
   ]
  },
  {
   "cell_type": "code",
   "execution_count": 7,
   "id": "04d27981-b1d0-4e53-a6d4-a5e975efdf07",
   "metadata": {},
   "outputs": [
    {
     "name": "stdout",
     "output_type": "stream",
     "text": [
      "    Dept   Age  Salary\n",
      "0     HR  25.0  4000.0\n",
      "1     IT  30.0  5000.0\n",
      "2     HR  30.0  4000.0\n",
      "3     IT  30.0  6000.0\n",
      "4  Sales  40.0     NaN\n"
     ]
    },
    {
     "name": "stderr",
     "output_type": "stream",
     "text": [
      "C:\\Users\\fofab\\AppData\\Local\\Temp\\ipykernel_81416\\1940107434.py:7: FutureWarning: A value is trying to be set on a copy of a DataFrame or Series through chained assignment using an inplace method.\n",
      "The behavior will change in pandas 3.0. This inplace method will never work because the intermediate object on which we are setting values always behaves as a copy.\n",
      "\n",
      "For example, when doing 'df[col].method(value, inplace=True)', try using 'df.method({col: value}, inplace=True)' or df[col] = df[col].method(value) instead, to perform the operation inplace on the original object.\n",
      "\n",
      "\n",
      "  df[\"Age\"].fillna(df[\"Age\"].median(), inplace=True)\n"
     ]
    }
   ],
   "source": [
    "df = pd.DataFrame({\n",
    "    \"Dept\": [\"HR\", \"IT\", \"HR\", \"IT\", \"Sales\"],\n",
    "    \"Age\": [25, np.nan, 30, np.nan, 40],\n",
    "    \"Salary\": [4000, 5000, np.nan, 6000, np.nan]\n",
    "})\n",
    "\n",
    "df[\"Age\"].fillna(df[\"Age\"].median(), inplace=True)\n",
    "df[\"Salary\"] = df.groupby(\"Dept\")[\"Salary\"].transform(lambda x: x.fillna(x.mean()))\n",
    "print(df)\n"
   ]
  },
  {
   "cell_type": "code",
   "execution_count": 8,
   "id": "48dff349-dc06-492c-932c-4d9cc9966cbd",
   "metadata": {},
   "outputs": [
    {
     "name": "stdout",
     "output_type": "stream",
     "text": [
      "                       Total_Sales  Avg_Profit_Margin\n",
      "Year Product_Category                                \n",
      "2023 A                        1000              0.100\n",
      "     B                        1500              0.150\n",
      "2024 A                        2300              0.105\n",
      "     B                        1300              0.140\n"
     ]
    }
   ],
   "source": [
    "sales = pd.DataFrame({\n",
    "    \"Year\": [2023, 2023, 2024, 2024, 2024],\n",
    "    \"Product_Category\": [\"A\", \"B\", \"A\", \"B\", \"A\"],\n",
    "    \"Sales\": [1000, 1500, 1200, 1300, 1100],\n",
    "    \"Profit_Margin\": [0.1, 0.15, 0.12, 0.14, 0.09]\n",
    "})\n",
    "\n",
    "result = sales.groupby([\"Year\", \"Product_Category\"]).agg(\n",
    "    Total_Sales=(\"Sales\", \"sum\"),\n",
    "    Avg_Profit_Margin=(\"Profit_Margin\", \"mean\")\n",
    ")\n",
    "print(result)\n"
   ]
  },
  {
   "cell_type": "code",
   "execution_count": 9,
   "id": "4d89947a-2785-46f8-9178-e8738893ded7",
   "metadata": {},
   "outputs": [
    {
     "name": "stdout",
     "output_type": "stream",
     "text": [
      "   city_name  population  area\n",
      "0   New York     8500000   468\n",
      "2      Paris     2200000   105\n",
      "3  New Delhi    31000000  1484\n"
     ]
    }
   ],
   "source": [
    "df = pd.DataFrame({\n",
    "    \"city_name\": [\"New York\", \"Los Angeles\", \"Paris\", \"New Delhi\", \"Lagos\"],\n",
    "    \"population\": [8500000, 4000000, 2200000, 31000000, 15000000],\n",
    "    \"area\": [468, 503, 105, 1484, 1171]\n",
    "})\n",
    "\n",
    "filtered = df.query(\"(population > 1000000 and area < 500) or city_name.str.contains('New')\")\n",
    "print(filtered)\n"
   ]
  },
  {
   "cell_type": "code",
   "execution_count": 10,
   "id": "7a84d301-e718-49b0-ab65-194f179d7374",
   "metadata": {},
   "outputs": [
    {
     "name": "stdout",
     "output_type": "stream",
     "text": [
      "   order_id  customer_id  product_id product_name   price\n",
      "0         1          101           1       Laptop  1000.0\n",
      "1         2          102           2        Phone   500.0\n",
      "2         3          103           5          NaN     NaN\n",
      "3         4          104           3       Tablet   300.0\n"
     ]
    }
   ],
   "source": [
    "orders = pd.DataFrame({\n",
    "    \"order_id\": [1, 2, 3, 4],\n",
    "    \"customer_id\": [101, 102, 103, 104],\n",
    "    \"product_id\": [1, 2, 5, 3]\n",
    "})\n",
    "\n",
    "products = pd.DataFrame({\n",
    "    \"product_id\": [1, 2, 3],\n",
    "    \"product_name\": [\"Laptop\", \"Phone\", \"Tablet\"],\n",
    "    \"price\": [1000, 500, 300]\n",
    "})\n",
    "\n",
    "merged = pd.merge(orders, products, on=\"product_id\", how=\"left\")\n",
    "print(merged)\n"
   ]
  },
  {
   "cell_type": "code",
   "execution_count": 11,
   "id": "49a4aab2-9a57-4066-bf1c-7e769e32c75a",
   "metadata": {},
   "outputs": [
    {
     "name": "stdout",
     "output_type": "stream",
     "text": [
      "Salesperson  Alice   Bob  Charlie\n",
      "Month                            \n",
      "2025-01       4515  6797     5437\n",
      "2025-02       5322  3024     6157\n",
      "2025-03        638     0        0\n"
     ]
    }
   ],
   "source": [
    "import pandas as pd\n",
    "import numpy as np\n",
    "\n",
    "dates = pd.date_range(\"2025-01-01\", periods=60, freq=\"D\")\n",
    "sales_data = pd.DataFrame({\n",
    "    \"Date\": dates,\n",
    "    \"Salesperson\": np.random.choice([\"Alice\", \"Bob\", \"Charlie\"], size=60),\n",
    "    \"Revenue\": np.random.randint(100, 1000, size=60)\n",
    "})\n",
    "\n",
    "sales_data[\"Month\"] = sales_data[\"Date\"].dt.to_period(\"M\")\n",
    "pivot = pd.pivot_table(sales_data, values=\"Revenue\", index=\"Month\", columns=\"Salesperson\", aggfunc=\"sum\", fill_value=0)\n",
    "print(pivot)\n"
   ]
  },
  {
   "cell_type": "code",
   "execution_count": 12,
   "id": "d13d6592-f2e8-4dad-9eeb-0f4c489cd527",
   "metadata": {},
   "outputs": [
    {
     "name": "stdout",
     "output_type": "stream",
     "text": [
      "            volume  closing_price\n",
      "Date                             \n",
      "2025-01-05    4077      65.099838\n",
      "2025-01-12    3421      70.995267\n",
      "2025-01-19    4314     133.721929\n",
      "2025-01-26    5381     114.776078\n",
      "2025-02-02    3457      74.623486\n"
     ]
    }
   ],
   "source": [
    "dates = pd.date_range(\"2025-01-01\", periods=90, freq=\"D\")\n",
    "df = pd.DataFrame({\n",
    "    \"Date\": dates,\n",
    "    \"volume\": np.random.randint(100, 1000, 90),\n",
    "    \"closing_price\": np.random.uniform(50, 150, 90)\n",
    "})\n",
    "df.set_index(\"Date\", inplace=True)\n",
    "\n",
    "resampled = df.resample(\"W\").agg({\"volume\": \"sum\", \"closing_price\": \"last\"})\n",
    "print(resampled.head())\n"
   ]
  },
  {
   "cell_type": "code",
   "execution_count": 13,
   "id": "83903abc-a6cd-4522-a27b-7c59a0c4c477",
   "metadata": {},
   "outputs": [
    {
     "name": "stdout",
     "output_type": "stream",
     "text": [
      "MSE: 0.5558548589435969\n",
      "R2: 0.5758157428913686\n"
     ]
    }
   ],
   "source": [
    "from sklearn.datasets import fetch_california_housing\n",
    "from sklearn.model_selection import train_test_split\n",
    "from sklearn.pipeline import Pipeline\n",
    "from sklearn.impute import SimpleImputer\n",
    "from sklearn.preprocessing import StandardScaler\n",
    "from sklearn.linear_model import Ridge\n",
    "from sklearn.metrics import mean_squared_error, r2_score\n",
    "import numpy as np\n",
    "\n",
    "data = fetch_california_housing(as_frame=True)\n",
    "X = data.data\n",
    "y = data.target\n",
    "\n",
    "X_train, X_test, y_train, y_test = train_test_split(X, y, test_size=0.2, random_state=42)\n",
    "\n",
    "pipe = Pipeline([\n",
    "    (\"imputer\", SimpleImputer(strategy=\"median\")),\n",
    "    (\"scaler\", StandardScaler()),\n",
    "    (\"model\", Ridge(random_state=42))\n",
    "])\n",
    "\n",
    "pipe.fit(X_train, y_train)\n",
    "y_pred = pipe.predict(X_test)\n",
    "print(\"MSE:\", mean_squared_error(y_test, y_pred))\n",
    "print(\"R2:\", r2_score(y_test, y_pred))\n"
   ]
  },
  {
   "cell_type": "code",
   "execution_count": 14,
   "id": "3e63f508-4fba-4c39-8d56-bf4399affee2",
   "metadata": {},
   "outputs": [
    {
     "name": "stdout",
     "output_type": "stream",
     "text": [
      "LinearRegression mean R2: 0.5530311140279567 std R2: 0.061691601409532754\n",
      "RandomForest mean R2: 0.6559022792657999 std R2: 0.07847065187260781\n",
      "SVR mean R2: 0.66869593304241 std R2: 0.056406686373962234\n"
     ]
    }
   ],
   "source": [
    "from sklearn.linear_model import LinearRegression\n",
    "from sklearn.ensemble import RandomForestRegressor\n",
    "from sklearn.svm import SVR\n",
    "from sklearn.model_selection import cross_val_score\n",
    "from sklearn.pipeline import Pipeline\n",
    "import numpy as np\n",
    "\n",
    "models = {\n",
    "    \"LinearRegression\": LinearRegression(),\n",
    "    \"RandomForest\": RandomForestRegressor(random_state=42, n_jobs=-1),\n",
    "    \"SVR\": SVR()\n",
    "}\n",
    "\n",
    "for name, model in models.items():\n",
    "    pipe = Pipeline([\n",
    "        (\"imputer\", SimpleImputer(strategy=\"median\")),\n",
    "        (\"scaler\", StandardScaler()),\n",
    "        (\"model\", model)\n",
    "    ])\n",
    "    scores = cross_val_score(pipe, X, y, cv=5, scoring=\"r2\", n_jobs=-1)\n",
    "    print(name, \"mean R2:\", np.mean(scores), \"std R2:\", np.std(scores))\n"
   ]
  },
  {
   "cell_type": "code",
   "execution_count": 15,
   "id": "7eb3ac8e-52c5-465f-b8d8-77128c4fea2d",
   "metadata": {},
   "outputs": [
    {
     "name": "stdout",
     "output_type": "stream",
     "text": [
      "[[10  0  0]\n",
      " [ 0  9  1]\n",
      " [ 0  1  9]]\n",
      "              precision    recall  f1-score   support\n",
      "\n",
      "           0       1.00      1.00      1.00        10\n",
      "           1       0.90      0.90      0.90        10\n",
      "           2       0.90      0.90      0.90        10\n",
      "\n",
      "    accuracy                           0.93        30\n",
      "   macro avg       0.93      0.93      0.93        30\n",
      "weighted avg       0.93      0.93      0.93        30\n",
      "\n"
     ]
    }
   ],
   "source": [
    "from sklearn.datasets import load_iris\n",
    "from sklearn.model_selection import train_test_split\n",
    "from sklearn.linear_model import LogisticRegression\n",
    "from sklearn.metrics import confusion_matrix, classification_report\n",
    "\n",
    "iris = load_iris(as_frame=True)\n",
    "X = iris.data\n",
    "y = iris.target\n",
    "\n",
    "X_train, X_test, y_train, y_test = train_test_split(X, y, test_size=0.2, random_state=42, stratify=y)\n",
    "\n",
    "pipe = Pipeline([\n",
    "    (\"imputer\", SimpleImputer(strategy=\"most_frequent\")),\n",
    "    (\"scaler\", StandardScaler()),\n",
    "    (\"model\", LogisticRegression(max_iter=1000))\n",
    "])\n",
    "\n",
    "pipe.fit(X_train, y_train)\n",
    "y_pred = pipe.predict(X_test)\n",
    "print(confusion_matrix(y_test, y_pred))\n",
    "print(classification_report(y_test, y_pred))\n"
   ]
  },
  {
   "cell_type": "code",
   "execution_count": null,
   "id": "03612625-154f-4356-be8d-5e3e48cd6e61",
   "metadata": {},
   "outputs": [],
   "source": []
  }
 ],
 "metadata": {
  "kernelspec": {
   "display_name": "Python [conda env:base] *",
   "language": "python",
   "name": "conda-base-py"
  },
  "language_info": {
   "codemirror_mode": {
    "name": "ipython",
    "version": 3
   },
   "file_extension": ".py",
   "mimetype": "text/x-python",
   "name": "python",
   "nbconvert_exporter": "python",
   "pygments_lexer": "ipython3",
   "version": "3.13.5"
  }
 },
 "nbformat": 4,
 "nbformat_minor": 5
}
